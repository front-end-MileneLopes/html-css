{
  "nbformat": 4,
  "nbformat_minor": 0,
  "metadata": {
    "colab": {
      "provenance": [],
      "authorship_tag": "ABX9TyOjQtjLw+BErEHUA99I75Vo",
      "include_colab_link": true
    },
    "kernelspec": {
      "name": "python3",
      "display_name": "Python 3"
    },
    "language_info": {
      "name": "python"
    }
  },
  "cells": [
    {
      "cell_type": "markdown",
      "metadata": {
        "id": "view-in-github",
        "colab_type": "text"
      },
      "source": [
        "<a href=\"https://colab.research.google.com/github/front-end-MileneLopes/html-css/blob/main/Untitled11.ipynb\" target=\"_parent\"><img src=\"https://colab.research.google.com/assets/colab-badge.svg\" alt=\"Open In Colab\"/></a>"
      ]
    },
    {
      "cell_type": "markdown",
      "source": [
        "MANIPULAÇÃO DE VARIAVEIS E \n",
        "CONSTANTES\n"
      ],
      "metadata": {
        "id": "gmI7t1y7cYD1"
      }
    },
    {
      "cell_type": "code",
      "source": [
        "#VARIAVEIS INTEIRAS\n",
        "numero = -3\n",
        "numero_jogos = 14\n",
        "numero_convidados = 15\n",
        "print(numero)"
      ],
      "metadata": {
        "colab": {
          "base_uri": "https://localhost:8080/"
        },
        "id": "h5C1oICQcipM",
        "outputId": "465c2ee7-62d9-4769-bcaf-96a626d3074e"
      },
      "execution_count": 5,
      "outputs": [
        {
          "output_type": "stream",
          "name": "stdout",
          "text": [
            "-3\n"
          ]
        }
      ]
    },
    {
      "cell_type": "code",
      "source": [
        "#VARIAVEIS FLOAT (PONTO FLUTUANTE)\n",
        "pi = 3.14\n",
        "numero_euler = 2.71\n",
        "escala_terremoto = -4.55\n",
        "print(pi)\n",
        "print(numero_euler)\n",
        "print(escala_terremoto)\n",
        "print(pi, numero_euler)"
      ],
      "metadata": {
        "colab": {
          "base_uri": "https://localhost:8080/"
        },
        "id": "mN4I81gddZGP",
        "outputId": "a25548a9-442a-47a1-af77-8535fe438c45"
      },
      "execution_count": 9,
      "outputs": [
        {
          "output_type": "stream",
          "name": "stdout",
          "text": [
            "3.14\n",
            "2.71\n",
            "-4.55\n",
            "3.14 2.71\n"
          ]
        }
      ]
    },
    {
      "cell_type": "code",
      "source": [
        "#STRINGS E CHARS\n",
        "letra = 'a'\n",
        "palavra1 = 'linguagem de programação'\n",
        "palavra2 = 'python'\n",
        "print(letra, palavra1)\n",
        "print('estou aprendendo uma', palavra1)\n",
        "print('esta', palavra1, 'se chama', palavra2)"
      ],
      "metadata": {
        "colab": {
          "base_uri": "https://localhost:8080/"
        },
        "id": "V4Ou33NaeZk_",
        "outputId": "ad94bdab-111f-447f-b968-627f8828fc72"
      },
      "execution_count": 15,
      "outputs": [
        {
          "output_type": "stream",
          "name": "stdout",
          "text": [
            "a linguagem de programação\n",
            "estou aprendendo uma linguagem de programação\n",
            "esta linguagem de programação se chama python\n"
          ]
        }
      ]
    },
    {
      "cell_type": "code",
      "source": [
        "idade = input('Digite sua idade:' )\n",
        "print('Sua idade é', idade)"
      ],
      "metadata": {
        "colab": {
          "base_uri": "https://localhost:8080/"
        },
        "id": "oG5qO2TLfes8",
        "outputId": "1dd8970e-ef08-4f6e-f0e7-b92984a5d931"
      },
      "execution_count": 17,
      "outputs": [
        {
          "output_type": "stream",
          "name": "stdout",
          "text": [
            "Digite sua idade:25\n",
            "Sua idade é 25\n"
          ]
        }
      ]
    }
  ]
}